{
 "cells": [
  {
   "cell_type": "markdown",
   "metadata": {},
   "source": [
    "# Collision Avoidance - Live Demo\n",
    "\n",
    "In this notebook we'll use the model we trained to detect whether the robot is ``free`` or ``blocked`` to enable a collision avoidance behavior on the robot.  \n",
    "\n",
    "\n",
    "#### [realImg ~> unet ~> change color (back, obs, path) ~> qnet ~> robot control]\n",
    "\n",
    "## Load the trained model\n",
    "\n",
    "We'll assumed that you've already downloaded the ``best_model.pth`` to your workstation as instructed in the training notebook.  Now, you should upload this model into this notebook's\n",
    "directory by using the Jupyter Lab upload tool.  Once that's finished there should be a file named ``best_model.pth`` in this notebook's directory.  \n",
    "\n",
    "> Please make sure the file has uploaded fully before calling the next cell\n",
    "\n",
    "Execute the code below to initialize the PyTorch model.  This should look very familiar from the training notebook."
   ]
  },
  {
   "cell_type": "code",
   "execution_count": 1,
   "metadata": {},
   "outputs": [],
   "source": [
    "# import torch\n",
    "# import torchvision\n",
    "\n",
    "# model = torchvision.models.alexnet(pretrained=False)\n",
    "# model.classifier[6] = torch.nn.Linear(model.classifier[6].in_features, 2)"
   ]
  },
  {
   "cell_type": "markdown",
   "metadata": {},
   "source": [
    "Next, load the trained weights from the ``best_model.pth`` file that you uploaded"
   ]
  },
  {
   "cell_type": "code",
   "execution_count": 13,
   "metadata": {},
   "outputs": [
    {
     "data": {
      "text/plain": [
       "<All keys matched successfully>"
      ]
     },
     "execution_count": 13,
     "metadata": {},
     "output_type": "execute_result"
    }
   ],
   "source": [
    "# model.load_state_dict(torch.load('best_model.pth'))"
   ]
  },
  {
   "cell_type": "markdown",
   "metadata": {},
   "source": [
    "Currently, the model weights are located on the CPU memory execute the code below to transfer to the GPU device."
   ]
  },
  {
   "cell_type": "code",
   "execution_count": 14,
   "metadata": {},
   "outputs": [],
   "source": [
    "# device = torch.device('cuda')\n",
    "# model = model.to(device)"
   ]
  },
  {
   "cell_type": "markdown",
   "metadata": {},
   "source": [
    "### Create the preprocessing function\n",
    "\n",
    "We have now loaded our model, but there's a slight issue.  The format that we trained our model doesnt *exactly* match the format of the camera.  To do that, \n",
    "we need to do some *preprocessing*.  This involves the following steps\n",
    "\n",
    "1. Convert from BGR to RGB\n",
    "2. Convert from HWC layout to CHW layout\n",
    "3. Normalize using same parameters as we did during training (our camera provides values in [0, 255] range and training loaded images in [0, 1] range so we need to scale by 255.0\n",
    "4. Transfer the data from CPU memory to GPU memory\n",
    "5. Add a batch dimension"
   ]
  },
  {
   "cell_type": "code",
   "execution_count": null,
   "metadata": {},
   "outputs": [],
   "source": [
    "import os\n",
    "import argparse\n",
    "import sys\n",
    "import time\n",
    "import signal\n",
    "import cv2\n",
    "import numpy as np\n",
    "\n",
    "import torch.nn.functional as F\n",
    "import torchvision.transforms.functional as TF\n",
    "import torchvision\n",
    "import torch\n",
    "from torchvision import transforms\n",
    "from PIL import Image\n",
    "\n",
    "from unet import UNet\n",
    "from jetbotSim import Robot, Env\n",
    "from rl import dqn, models\n"
   ]
  },
  {
   "cell_type": "code",
   "execution_count": null,
   "metadata": {},
   "outputs": [],
   "source": [
    "def preprocess(state, img_size, th=0.4):\n",
    "    # x = state\n",
    "    # state = cv2.cvtColor(state, cv2.COLOR_BGR2RGB)\n",
    "    state = np.array(Image.fromarray(state).resize(img_size, Image.Resampling.BILINEAR))\n",
    "    state = state.astype(float) / 255.\n",
    "    state = state.transpose(2,0,1)\n",
    "    return state\n",
    "\n",
    "def step(action):\n",
    "    global robot\n",
    "    if action == 0:\n",
    "        robot.set_motors(0.2, 0.2)\n",
    "    elif action == 1:\n",
    "        robot.set_motors(0.1, 0.)\n",
    "    elif action == 2:\n",
    "        robot.set_motors(0., 0.1)"
   ]
  },
  {
   "cell_type": "code",
   "execution_count": null,
   "metadata": {},
   "outputs": [],
   "source": [
    "def robot_control(mask):\n",
    "    # img = mask\n",
    "    # flippedImg = cv2.flip(img, 0)\n",
    "\n",
    "    return mask==1, mask==2\n",
    "\n",
    "def predict_img(full_img, out_threshold=0.5):\n",
    "    global transform, device, net\n",
    "    r, g, b = full_img.split()\n",
    "    img = Image.merge(\"RGB\", (b, g, r))\n",
    "    img = transform(img)\n",
    "    img = img.unsqueeze(0).to(device=device)\n",
    "    with torch.no_grad():\n",
    "        output = net(img).cpu()\n",
    "        output = F.interpolate(output, (full_img.size[1], full_img.size[0]), mode='bilinear')\n",
    "        if net.n_classes > 1:\n",
    "            mask = output.argmax(dim=1)\n",
    "        else:\n",
    "            mask = torch.sigmoid(output) > out_threshold\n",
    "\n",
    "    return mask[0].long().squeeze().numpy()\n",
    "\n",
    "def process_unet_img(image_bgr):\n",
    "    # Convert BGR to RGB\n",
    "    image_rgb = cv2.cvtColor(image_bgr, cv2.COLOR_BGR2RGB)\n",
    "    # Create a PIL Image object from the RGB image\n",
    "    ori_img = Image.fromarray(image_rgb)\n",
    "\n",
    "    mask = predict_img(ori_img)\n",
    "    classes = mask.max() + 1\n",
    "\n",
    "    # Convert the PIL Image object to a NumPy array\n",
    "    # if classes >1:\n",
    "    obs_mask = np.array(mask==2)\n",
    "    back_mask = np.array(mask==0)\n",
    "    path_mask = np.array(mask==1)\n",
    "\n",
    "    # Create a blank color image\n",
    "    colored_mask = np.zeros((mask.shape[0], mask.shape[1], 3), dtype=np.uint8)\n",
    "\n",
    "    # Set the colors for each mask\n",
    "    colored_mask[back_mask] = [185, 205, 235]  # skyblue\n",
    "    colored_mask[path_mask] = [26, 28, 31]     # black\n",
    "    colored_mask[obs_mask] = [170, 40, 40]     # red\n",
    "\n",
    "    return colored_mask"
   ]
  },
  {
   "cell_type": "code",
   "execution_count": 15,
   "metadata": {},
   "outputs": [],
   "source": [
    "# import cv2\n",
    "# import numpy as np\n",
    "\n",
    "# mean = 255.0 * np.array([0.485, 0.456, 0.406])\n",
    "# stdev = 255.0 * np.array([0.229, 0.224, 0.225])\n",
    "\n",
    "# normalize = torchvision.transforms.Normalize(mean, stdev)\n",
    "\n",
    "# def preprocess(camera_value):\n",
    "#     global device, normalize\n",
    "#     x = camera_value\n",
    "#     x = cv2.cvtColor(x, cv2.COLOR_BGR2RGB)\n",
    "#     x = x.transpose((2, 0, 1))\n",
    "#     x = torch.from_numpy(x).float()\n",
    "#     x = normalize(x)\n",
    "#     x = x.to(device)\n",
    "#     x = x[None, ...]\n",
    "#     return x"
   ]
  },
  {
   "cell_type": "code",
   "execution_count": null,
   "metadata": {},
   "outputs": [],
   "source": [
    "mean = 255.0 * np.array([0.485, 0.456, 0.406])\n",
    "stdev = 255.0 * np.array([0.229, 0.224, 0.225])\n",
    "normalize = torchvision.transforms.Normalize(mean, stdev)\n",
    "\n",
    "qnet_model_dir = \"./rl_checkpoint/\"\n",
    "qnet_model_name = \"qnet_480000.pt\"\n",
    "model_path = \"./unet/checkpoints/checkpoint_epoch4.pth\"\n",
    "device = torch.device(\"cuda\" if torch.cuda.is_available() else \"cpu\")\n",
    "\n",
    "unet_model_path = \"./unet/checkpoints/checkpoint_epoch5.pth\"\n",
    "\n",
    "frames = -1\n",
    "total_reward = 0\n",
    "stack_frames = 3\n",
    "img_size = (128, 128)\n",
    "\n",
    "recent_distances = []  # List to store recent distance measurements\n",
    "MAX_HISTORY = 4\n",
    "\n",
    "net = None"
   ]
  },
  {
   "cell_type": "code",
   "execution_count": null,
   "metadata": {},
   "outputs": [],
   "source": [
    "def initialize_all(model_dir, model_name, unet_model_path):\n",
    "  global total_reward, stack_frames, img_size, device\n",
    "  print(f\"Device: {device}\")\n",
    "\n",
    "  # Load UNET\n",
    "  net = UNet(n_channels=3, n_classes=3, bilinear=False)\n",
    "  net.to(device=device)\n",
    "  state_dict = torch.load(model_path, map_location=device)\n",
    "  mask_values = state_dict.pop('mask_values', [0, 1, 2])\n",
    "  net.load_state_dict(state_dict)\n",
    "  net.eval()\n",
    "\n",
    "  # Load QNET\n",
    "  agent = dqn.DeepQNetwork(\n",
    "      n_actions = 3,\n",
    "      input_shape = [(stack_frames)*3, *img_size],\n",
    "      qnet = models.QNet,\n",
    "      device = device,\n",
    "      learning_rate = 2e-4, \n",
    "      reward_decay = 0.98,\n",
    "      replace_target_iter = 1000, \n",
    "      memory_size = 10000,\n",
    "      batch_size = 32,\n",
    "  )\n",
    "  agent.save_load_model(\"load\", path=model_dir, fname=model_name)\n",
    "  \n",
    "  return net, agent\n"
   ]
  },
  {
   "cell_type": "code",
   "execution_count": null,
   "metadata": {},
   "outputs": [],
   "source": [
    "\n",
    "\n",
    "net, agent = initialize_all(qnet_model_dir, qnet_model_name, unet_model_path)"
   ]
  },
  {
   "cell_type": "markdown",
   "metadata": {},
   "source": [
    "Great! We've now defined our pre-processing function which can convert images from the camera format to the neural network input format.\n",
    "\n",
    "Now, let's start and display our camera.  You should be pretty familiar with this by now.  We'll also create a slider that will display the\n",
    "probability that the robot is blocked."
   ]
  },
  {
   "cell_type": "code",
   "execution_count": null,
   "metadata": {},
   "outputs": [],
   "source": [
    "import traitlets\n",
    "from IPython.display import display\n",
    "import ipywidgets.widgets as widgets\n",
    "from jetbot import Camera, bgr8_to_jpeg\n",
    "\n",
    "camera = Camera.instance(width=224, height=224)\n",
    "image = widgets.Image(format='jpeg', width=224, height=224)\n",
    "blocked_slider = widgets.FloatSlider(description='blocked', min=0.0, max=1.0, orientation='vertical')\n",
    "\n",
    "camera_link = traitlets.dlink((camera, 'value'), (image, 'value'), transform=bgr8_to_jpeg)\n",
    "\n",
    "display(widgets.HBox([image, blocked_slider]))"
   ]
  },
  {
   "cell_type": "markdown",
   "metadata": {},
   "source": [
    "Next, we'll create a function that will get called whenever the camera's value changes.  This function will do the following steps\n",
    "\n",
    "1. Pre-process the camera image\n",
    "2. Execute the neural network\n",
    "3. While the neural network output indicates we're blocked, we'll turn left, otherwise we go forward."
   ]
  },
  {
   "cell_type": "code",
   "execution_count": 18,
   "metadata": {
    "scrolled": true
   },
   "outputs": [],
   "source": [
    "import torch.nn.functional as F\n",
    "import time\n",
    "\n",
    "def update(change):\n",
    "    global blocked_slider, robot, frames, stack_frames, img_size\n",
    "    global state, state_dict\n",
    "    # x = change['new'] \n",
    "    # x = preprocess(x)\n",
    "    # y = model(x)\n",
    "    \n",
    "    # # we apply the `softmax` function to normalize the output vector so it sums to 1 (which makes it a probability distribution)\n",
    "    # y = F.softmax(y, dim=1)\n",
    "    \n",
    "    # prob_blocked = float(y.flatten()[0])\n",
    "    \n",
    "    # blocked_slider.value = prob_blocked\n",
    "    \n",
    "    # if prob_blocked < 0.5:\n",
    "    #     robot.forward(0.4)\n",
    "    # else:\n",
    "    #     robot.left(0.4)\n",
    "\n",
    "    frames += 1\n",
    "\n",
    "    state_next = change['new']\n",
    "    state_next = process_unet_img(state_next)\n",
    "\n",
    "    if frames != 0:\n",
    "\n",
    "        # Select action.\n",
    "        action = agent.choose_action(state_dict, 0.2)\n",
    "\n",
    "        # Get next stacked state.\n",
    "        step(action)\n",
    "        state_next = preprocess(state_next, img_size=img_size)\n",
    "        state_next = np.concatenate([state_next, state[3:]], 0)\n",
    "        state_next_dict = {\"obs\":state_next}\n",
    "        # total_reward += reward\n",
    "        state = state_next.copy()\n",
    "        state_dict = state_next_dict\n",
    "\n",
    "    else:\n",
    "        frames = 0\n",
    "        # total_reward = 0\n",
    "        state = preprocess(state_next, img_size=img_size)\n",
    "        state = state.repeat(stack_frames, axis=0)\n",
    "        state_dict = {\"obs\":state}\n",
    "        # robot.reset()\n",
    "    \n",
    "    time.sleep(0.001)\n",
    "        \n",
    "update({'new': camera.value})  # we call the function once to intialize"
   ]
  },
  {
   "cell_type": "code",
   "execution_count": 1,
   "metadata": {},
   "outputs": [
    {
     "data": {
      "application/vnd.jupyter.widget-view+json": {
       "model_id": "630b49025eb04dd99b2138c3c55ed68a",
       "version_major": 2,
       "version_minor": 0
      },
      "text/plain": [
       "HBox(children=(Image(value=b'\\xff\\xd8\\xff\\xe0\\x00\\x10JFIF\\x00\\x01\\x01\\x00\\x00\\x01\\x00\\x01\\x00\\x00\\xff\\xdb\\x00C…"
      ]
     },
     "metadata": {},
     "output_type": "display_data"
    }
   ],
   "source": []
  },
  {
   "cell_type": "markdown",
   "metadata": {},
   "source": [
    "We'll also create our robot instance which we'll need to drive the motors."
   ]
  },
  {
   "cell_type": "code",
   "execution_count": 17,
   "metadata": {},
   "outputs": [],
   "source": [
    "from jetbot import Robot\n",
    "\n",
    "robot = Robot()"
   ]
  },
  {
   "cell_type": "markdown",
   "metadata": {},
   "source": [
    "Cool! We've created our neural network execution function, but now we need to attach it to the camera for processing. \n",
    "\n",
    "We accomplish that with the ``observe`` function.\n",
    "\n",
    "> WARNING: This code will move the robot!! Please make sure your robot has clearance.  The collision avoidance should work, but the neural\n",
    "> network is only as good as the data it's trained on!"
   ]
  },
  {
   "cell_type": "code",
   "execution_count": 21,
   "metadata": {},
   "outputs": [],
   "source": [
    "camera.observe(update, names='value')  # this attaches the 'update' function to the 'value' traitlet of our camera"
   ]
  },
  {
   "cell_type": "markdown",
   "metadata": {},
   "source": [
    "Awesome! If your robot is plugged in it should now be generating new commands with each new camera frame.  Perhaps start by placing your robot on the ground and seeing what it does when it reaches an obstacle.\n",
    "\n",
    "If you want to stop this behavior, you can unattach this callback by executing the code below."
   ]
  },
  {
   "cell_type": "code",
   "execution_count": 22,
   "metadata": {
    "scrolled": true
   },
   "outputs": [],
   "source": [
    "import time\n",
    "\n",
    "camera.unobserve(update, names='value')\n",
    "\n",
    "time.sleep(0.1)  # add a small sleep to make sure frames have finished processing\n",
    "\n",
    "robot.stop()"
   ]
  },
  {
   "cell_type": "markdown",
   "metadata": {},
   "source": [
    "Perhaps you want the robot to run without streaming video to the browser.  You can unlink the camera as below."
   ]
  },
  {
   "cell_type": "code",
   "execution_count": null,
   "metadata": {},
   "outputs": [],
   "source": [
    "camera_link.unlink()  # don't stream to browser (will still run camera)"
   ]
  },
  {
   "cell_type": "markdown",
   "metadata": {},
   "source": [
    "To continue streaming call the following."
   ]
  },
  {
   "cell_type": "code",
   "execution_count": null,
   "metadata": {},
   "outputs": [],
   "source": [
    "camera_link.link()  # stream to browser (wont run camera)"
   ]
  },
  {
   "cell_type": "markdown",
   "metadata": {},
   "source": [
    "### Conclusion\n",
    "\n",
    "That's it for this live demo!  Hopefully you had some fun and your robot avoided collisions intelligently! \n",
    "\n",
    "If your robot wasn't avoiding collisions very well, try to spot where it fails.  The beauty is that we can collect more data for these failure scenarios\n",
    "and the robot should get even better :)"
   ]
  }
 ],
 "metadata": {
  "kernelspec": {
   "display_name": "Python 3",
   "language": "python",
   "name": "python3"
  },
  "language_info": {
   "codemirror_mode": {
    "name": "ipython",
    "version": 3
   },
   "file_extension": ".py",
   "mimetype": "text/x-python",
   "name": "python",
   "nbconvert_exporter": "python",
   "pygments_lexer": "ipython3",
   "version": "3.6.9"
  }
 },
 "nbformat": 4,
 "nbformat_minor": 4
}
