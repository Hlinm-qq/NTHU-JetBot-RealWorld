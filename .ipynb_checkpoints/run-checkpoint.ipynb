{
 "cells": [
  {
   "cell_type": "markdown",
   "metadata": {},
   "source": [
    "\n",
    "# Basic Motion\n",
    "\n",
    "Welcome to JetBot's browser based programming interface!  This document is\n",
    "called a *Jupyter Notebook*, which combines text, code, and graphic\n",
    "display all in one!  Prett neat, huh? If you're unfamiliar with *Jupyter* we suggest clicking the \n",
    "``Help`` drop down menu in the top toolbar.  This has useful references for\n",
    "programming with *Jupyter*. \n",
    "\n",
    "In this notebook, we'll cover the basics of controlling JetBot. \n",
    "\n",
    "### Importing the Robot class\n",
    "\n",
    "To get started programming JetBot, we'll need to import the ``Robot`` class.  This class\n",
    "allows us to easily control the robot's motors!  This is contained in the ``jetbot`` package.\n",
    "\n",
    "> If you're new to Python, a *package* is essentially a folder containing \n",
    "> code files.  These code files are called *modules*.\n",
    "\n",
    "To import the ``Robot`` class, highlight the cell below and press ``ctrl + enter`` or the ``play`` icon above.\n",
    "This will execute the code contained in the cell"
   ]
  },
  {
   "cell_type": "code",
   "execution_count": 2,
   "metadata": {},
   "outputs": [],
   "source": [
    "from jetbot import Robot\n",
    "import traitlets\n",
    "import ipywidgets.widgets as widgets\n",
    "from IPython.display import display\n",
    "from jetbot import Camera, bgr8_to_jpeg\n",
    "import os\n",
    "import time\n",
    "import cv2\n",
    "import numpy as np\n",
    "\n",
    "robot = Robot()"
   ]
  },
  {
   "cell_type": "code",
   "execution_count": 2,
   "metadata": {},
   "outputs": [],
   "source": [
    "isLeft = False\n",
    "isRight = False\n",
    "isObstacle = False\n",
    "left_cnt = 0\n",
    "right_cnt = 0\n",
    "obs_cnt = 0\n",
    "cnt_stop = 0\n",
    "frames = 0\n",
    "isStop = False\n",
    "\n",
    "lp = 160\n",
    "rp = 489\n",
    "spot = 260"
   ]
  },
  {
   "cell_type": "code",
   "execution_count": 3,
   "metadata": {},
   "outputs": [],
   "source": [
    "def execute(change):\n",
    "    \n",
    "    ### forward <-> right, backward <-> left\n",
    "    \n",
    "    global robot, frames, isLeft, isRight,left_cnt, right_cnt,cnt_stop, isStop, isObstacle, obs_cnt, lp, rp,spot\n",
    "    print(\"\\rFrames\", frames, end=\"\")\n",
    "    frames += 1\n",
    "\n",
    "    # Visualize\n",
    "    img = cv2.resize(change[\"new\"],(640,360))\n",
    "#     cv2.imshow(\"camera\", img)\n",
    "    print(\"ok\")\n",
    "\n",
    "    # initial run\n",
    "    if frames == 1:\n",
    "        robot.stop()\n",
    "#         robot.right(0.01)\n",
    "\n",
    "    if frames == 1:\n",
    "        cv2.imshow(\"camera\", img)\n",
    "        for i in range(640):\n",
    "            print((i, img [180][i]))\n",
    "        cv2.waitKey(0)\n",
    "    # if frames == 2700:\n",
    "    #     cv2.imshow(\"camera\", img)\n",
    "    #     for i in range(640):\n",
    "    #         print((i, img [180][i]))\n",
    "    #     cv2.waitKey(0)\n",
    "        # cv2.destroyAllWindows()\n",
    "    if isStop:\n",
    "        cnt_stop +=1\n",
    "        if cnt_stop == 70:\n",
    "            robot.stop()\n",
    "\n",
    "    if isLeft:\n",
    "        left_cnt += 1\n",
    "\n",
    "    if isRight:\n",
    "        right_cnt += 1\n",
    "\n",
    "    if isObstacle:\n",
    "        obs_cnt += 1\n",
    "\n",
    "    if left_cnt == 5:\n",
    "        robot.right(0.1)\n",
    "        isLeft = False\n",
    "        left_cnt = 0\n",
    "\n",
    "    if right_cnt == 5:\n",
    "        robot.right(0.1)\n",
    "        isRight = False\n",
    "        right_cnt = 0\n",
    "        \n",
    "    if obs_cnt == 55:\n",
    "        isObstacle = False\n",
    "        obs_cnt = 0\n",
    "\n",
    "\n",
    "\n",
    "\n",
    "\n",
    "    # check if (295, 270) ~ (345, 270) is RED ([38, 33, 172])\n",
    "    if not (isLeft or isRight or isObstacle):\n",
    "\n",
    "        if img[spot][lp][0] > 175 and img[spot][lp][0] < 210 and img[spot][lp][1] > 230 and img[spot][lp][1] < 260 and img[spot][lp][2] > 210 and img[spot][lp][2] < 260:#left obstacle\n",
    "            robot.forward(0.1)\n",
    "            isRight = True\n",
    "            isObstacle = True\n",
    "            print(\"R\")\n",
    "            # robot.forward(0.05)\n",
    "        elif img[spot][rp][0] > 175 and img[spot][rp][0] < 210 and img[spot][rp][1] > 230 and img[spot][rp][1] < 260 and img[spot][rp][2] > 210 and img[spot][rp][2] < 260:#right obstacle\n",
    "            robot.backward(0.1)\n",
    "            isLeft = True\n",
    "            isObstacle = True\n",
    "            print(\"L\")\n",
    "        elif img[spot][lp][0] > 100 and img[spot][lp][0] < 130 and img[spot][lp][1] > 120 and img[spot][lp][1] < 150 and img[spot][lp][2] > 105 and img[spot][lp][2] < 135:#left obstacle\n",
    "            robot.forward(0.1)\n",
    "            isRight = True\n",
    "            isObstacle = True\n",
    "            print(\"R\")\n",
    "        elif img[spot][rp][0] > 100 and img[spot][rp][0] < 130 and img[spot][rp][1] > 120 and img[spot][rp][1] < 150 and img[spot][rp][2] > 105 and img[spot][rp][2] < 135:#right obstacle\n",
    "            robot.backward(0.1)\n",
    "            isLeft = True\n",
    "            isObstacle = True\n",
    "            print(\"L\")\n",
    "        else:\n",
    "            if not (img[270][320][1] < 150 and img[270][320][2] > 150):\n",
    "                for i in range(640):\n",
    "                    if img[270][i][1] < 150 and img[270][i][2] > 150:        # Red : 中間 < 50, 後面 > 150\n",
    "                        if i < 320:\n",
    "                            # print(\"Red is left, LEFT TURN!\")\n",
    "                            robot.backward(0.1)\n",
    "                            isLeft = True\n",
    "                            break\n",
    "                        else:\n",
    "                            # print(\"Red is right, RIGHT TURN!\")\n",
    "                            robot.forward(0.1)\n",
    "                            isRight = True\n",
    "                            break\n",
    "\n",
    "    if img[324][320][2] < 60:\n",
    "        isStop = True"
   ]
  },
  {
   "cell_type": "code",
   "execution_count": 4,
   "metadata": {},
   "outputs": [
    {
     "data": {
      "application/vnd.jupyter.widget-view+json": {
       "model_id": "109d07bde9944d588c2ea9e1155c75ba",
       "version_major": 2,
       "version_minor": 0
      },
      "text/plain": [
       "Image(value=b'\\xff\\xd8\\xff\\xe0\\x00\\x10JFIF\\x00\\x01\\x01\\x00\\x00\\x01\\x00\\x01\\x00\\x00\\xff\\xdb\\x00C\\x00\\x02\\x01\\x0…"
      ]
     },
     "metadata": {},
     "output_type": "display_data"
    }
   ],
   "source": [
    "camera = Camera.instance(width=960, height=540, capture_width=1280, capture_height=720)\n",
    "image = widgets.Image(format='jpeg', width=480, height=270)  # this width and height doesn't necessarily have to match the camera\n",
    "camera_link = traitlets.dlink((camera, 'value'), (image, 'value'), transform=bgr8_to_jpeg)\n",
    "display(image)"
   ]
  },
  {
   "cell_type": "code",
   "execution_count": null,
   "metadata": {},
   "outputs": [
    {
     "name": "stdout",
     "output_type": "stream",
     "text": [
      "Frames 0ok\n"
     ]
    }
   ],
   "source": [
    "execute({'new': camera.value})"
   ]
  },
  {
   "cell_type": "code",
   "execution_count": 2,
   "metadata": {},
   "outputs": [
    {
     "name": "stdout",
     "output_type": "stream",
     "text": [
      "Frames 0"
     ]
    }
   ],
   "source": [
    "\n",
    "        \n",
    "\n",
    "                \n",
    "    \n",
    "\n",
    "\n",
    "    \n",
    "\n",
    "    \n",
    "\n",
    "robot = Robot()\n",
    "camera = Camera()\n",
    "camera.observe(execute)\n",
    "\n",
    "# img = cv2.imread('./image2.jpg')\n",
    "\n",
    "# for i in range(640):\n",
    "#     print((i, img[180][i]))\n",
    "# cv2.imshow(\"1\",img)\n",
    "# cv2.waitKey(0)\n",
    "# cv2.destroyAllWindows()"
   ]
  },
  {
   "cell_type": "markdown",
   "metadata": {},
   "source": [
    "Now that we've imported the ``Robot`` class we can initialize the class *instance* as follows. "
   ]
  },
  {
   "cell_type": "code",
   "execution_count": null,
   "metadata": {},
   "outputs": [],
   "source": [
    "robot = Robot()"
   ]
  },
  {
   "cell_type": "markdown",
   "metadata": {},
   "source": [
    "### Commanding the robot"
   ]
  },
  {
   "cell_type": "markdown",
   "metadata": {},
   "source": [
    "Now that we've created our ``Robot`` instance we named \"robot\", we can use this instance\n",
    "to control the robot.  To make the robot spin counterclockwise at 30% of it's max speed\n",
    "we can call the following\n",
    "\n",
    "> WARNING:  This next command will make the robot move!  Please make sure the robot has clearance."
   ]
  },
  {
   "cell_type": "code",
   "execution_count": null,
   "metadata": {},
   "outputs": [],
   "source": [
    "robot.left(speed=0.3)"
   ]
  },
  {
   "cell_type": "markdown",
   "metadata": {},
   "source": [
    "Cool, you should see the robot spin counterclockwise!\n",
    "\n",
    "> If your robot didn't turn left, that means one of the motors is wired backwards!  Try powering down your\n",
    "> robot and swapping the terminals that the ``red`` and ``black`` cables of the incorrect motor.\n",
    "> \n",
    "> REMINDER: Always be careful to check your wiring, and don't change the wiring on a running system!\n",
    "\n",
    "Now, to stop the robot you can call the ``stop`` method."
   ]
  },
  {
   "cell_type": "code",
   "execution_count": null,
   "metadata": {},
   "outputs": [],
   "source": [
    "robot.stop()"
   ]
  },
  {
   "cell_type": "markdown",
   "metadata": {},
   "source": [
    "Maybe we only want to run the robot for a set period of time.  For that, we can use the Python ``time`` package.  "
   ]
  },
  {
   "cell_type": "code",
   "execution_count": null,
   "metadata": {},
   "outputs": [],
   "source": [
    "import time"
   ]
  },
  {
   "cell_type": "markdown",
   "metadata": {},
   "source": [
    "This package defines the ``sleep`` function, which causes the code execution to block for the specified number of seconds\n",
    "before running the next command.  Try the following to make the robot turn left only for half a second."
   ]
  },
  {
   "cell_type": "code",
   "execution_count": null,
   "metadata": {},
   "outputs": [],
   "source": [
    "robot.left(0.3)\n",
    "time.sleep(0.5)\n",
    "robot.stop()"
   ]
  },
  {
   "cell_type": "markdown",
   "metadata": {},
   "source": [
    "Great.  You should see the robot turn left for a bit and then stop.\n",
    "\n",
    "> Wondering what happened to the ``speed=`` inside the ``left`` method?  Python allows \n",
    "> us to set function parameters by either their name, or the order that they are defined\n",
    "> (without specifying the name).\n",
    "\n",
    "The ``BasicJetbot`` class also has the methods ``right``, ``forward``, and ``backwards``.  Try creating your own cell to make\n",
    "the robot move forward at 50% speed for one second.\n",
    "\n",
    "Create a new cell by highlighting an existing cell and pressing ``b`` or the ``+`` icon above.  Once you've done that, type in the code that you think will make the robot move forward at 50% speed for one second."
   ]
  },
  {
   "cell_type": "markdown",
   "metadata": {},
   "source": [
    "### Controlling motors individually\n",
    "\n",
    "Above we saw how we can control the robot using commands like ``left``, ``right``, etc.  But what if we want to set each motor speed \n",
    "individually?  Well, there are two ways you can do this\n",
    "\n",
    "The first way is to call the ``set_motors`` method.  For example, to turn along a left arch for a second we could set the left motor to 30% and the right motor to 60% like follows."
   ]
  },
  {
   "cell_type": "code",
   "execution_count": null,
   "metadata": {},
   "outputs": [],
   "source": [
    "robot.set_motors(0.3, 0.6)\n",
    "time.sleep(1.0)\n",
    "robot.stop()"
   ]
  },
  {
   "cell_type": "markdown",
   "metadata": {},
   "source": [
    "Great!  You should see the robot move along a left arch.  But actually, there's another way that we could accomplish the same thing.\n",
    "\n",
    "The ``Robot`` class has two attributes named ``left_motor`` and ``right_motor`` that represent each motor individually.\n",
    "These attributes are ``Motor`` class instances, each which contains a ``value`` attribute.  This ``value`` attribute\n",
    "is a [traitlet](https://github.com/ipython/traitlets) which generates ``events`` when assigned a new value.  In the motor\n",
    "class, we attach a function that updates the motor commands whenever the value changes.\n",
    "\n",
    "So, to accomplish the exact same thing we did above, we could execute the following."
   ]
  },
  {
   "cell_type": "code",
   "execution_count": null,
   "metadata": {},
   "outputs": [],
   "source": [
    "robot.left_motor.value = 0.3\n",
    "robot.right_motor.value = 0.6\n",
    "time.sleep(1.0)\n",
    "robot.left_motor.value = 0.0\n",
    "robot.right_motor.value = 0.0"
   ]
  },
  {
   "cell_type": "markdown",
   "metadata": {},
   "source": [
    "You should see the robot move in the same exact way!"
   ]
  },
  {
   "cell_type": "markdown",
   "metadata": {},
   "source": [
    "### Link motors to traitlets"
   ]
  },
  {
   "cell_type": "markdown",
   "metadata": {},
   "source": [
    "A really cool feature about these [traitlets](https://github.com/ipython/traitlets) is that we can \n",
    "also link them to other traitlets!  This is super handy because Jupyter Notebooks allow us\n",
    "to make graphical ``widgets`` that use traitlets under the hood.  This means we can attach\n",
    "our motors to ``widgets`` to control them from the browser, or just visualize the value.\n",
    "\n",
    "To show how to do this, let's create and display two sliders that we'll use to control our motors."
   ]
  },
  {
   "cell_type": "code",
   "execution_count": null,
   "metadata": {},
   "outputs": [],
   "source": [
    "import ipywidgets.widgets as widgets\n",
    "from IPython.display import display\n",
    "\n",
    "# create two sliders with range [-1.0, 1.0]\n",
    "left_slider = widgets.FloatSlider(description='left', min=-1.0, max=1.0, step=0.01, orientation='vertical')\n",
    "right_slider = widgets.FloatSlider(description='right', min=-1.0, max=1.0, step=0.01, orientation='vertical')\n",
    "\n",
    "# create a horizontal box container to place the sliders next to eachother\n",
    "slider_container = widgets.HBox([left_slider, right_slider])\n",
    "\n",
    "# display the container in this cell's output\n",
    "display(slider_container)"
   ]
  },
  {
   "cell_type": "markdown",
   "metadata": {},
   "source": [
    "You should see two ``vertical`` sliders displayed above. \n",
    "\n",
    "> HELPFUL TIP:  In Jupyter Lab, you can actually \"pop\" the output of cells into entirely separate window!  It will still be \n",
    "> connected to the notebook, but displayed separately.  This is helpful if we want to pin the output of code we executed elsewhere.\n",
    "> To do this, right click the output of the cell and select ``Create New View for Output``.  You can then drag the new window\n",
    "> to a location you find pleasing.\n",
    "\n",
    "Try clicking and dragging the sliders up and down.  Notice nothing happens when we move the sliders currently.  That's because we haven't connected them to motors yet!  We'll do that by using the ``link`` function from the traitlets package."
   ]
  },
  {
   "cell_type": "code",
   "execution_count": null,
   "metadata": {},
   "outputs": [],
   "source": [
    "import traitlets\n",
    "\n",
    "left_link = traitlets.link((left_slider, 'value'), (robot.left_motor, 'value'))\n",
    "right_link = traitlets.link((right_slider, 'value'), (robot.right_motor, 'value'))"
   ]
  },
  {
   "cell_type": "markdown",
   "metadata": {},
   "source": [
    "Now try dragging the sliders (slowly at first).  You should see the respective motor turn!\n",
    "\n",
    "The ``link`` function that we created above actually creates a bi-directional link!  That means,\n",
    "if we set the motor values elsewhere, the sliders will update!  Try executing the code block below"
   ]
  },
  {
   "cell_type": "code",
   "execution_count": null,
   "metadata": {},
   "outputs": [],
   "source": [
    "robot.forward(0.3)\n",
    "time.sleep(1.0)\n",
    "robot.stop()"
   ]
  },
  {
   "cell_type": "markdown",
   "metadata": {},
   "source": [
    "You should see the sliders respond to the motor commands!  If we want to remove this connection we can call the\n",
    "``unlink`` method of each link."
   ]
  },
  {
   "cell_type": "code",
   "execution_count": null,
   "metadata": {},
   "outputs": [],
   "source": [
    "left_link.unlink()\n",
    "right_link.unlink()"
   ]
  },
  {
   "cell_type": "markdown",
   "metadata": {},
   "source": [
    "But what if we don't want a *bi-directional* link, let's say we only want to use the sliders to display the motor values,\n",
    "but not control them.  For that we can use the ``dlink`` function.  The left input is the ``source`` and the right input is the ``target``"
   ]
  },
  {
   "cell_type": "code",
   "execution_count": null,
   "metadata": {},
   "outputs": [],
   "source": [
    "left_link = traitlets.dlink((robot.left_motor, 'value'), (left_slider, 'value'))\n",
    "right_link = traitlets.dlink((robot.right_motor, 'value'), (right_slider, 'value'))"
   ]
  },
  {
   "cell_type": "markdown",
   "metadata": {},
   "source": [
    "Now try moving the sliders.  You should see that the robot doesn't respond.  But when set the motors using a different method,\n",
    "the sliders will update and display the value!"
   ]
  },
  {
   "cell_type": "markdown",
   "metadata": {},
   "source": [
    "### Attach functions to events"
   ]
  },
  {
   "cell_type": "markdown",
   "metadata": {},
   "source": [
    "Another way to use traitlets, is by attaching functions (like ``forward``) to events.  These\n",
    "functions will get called whenever a change to the object occurs, and will be passed some information about that change\n",
    "like the ``old`` value and the ``new`` value.  \n",
    "\n",
    "Let's create and display some buttons that we'll use to control the robot."
   ]
  },
  {
   "cell_type": "code",
   "execution_count": null,
   "metadata": {},
   "outputs": [],
   "source": [
    "# create buttons\n",
    "button_layout = widgets.Layout(width='100px', height='80px', align_self='center')\n",
    "stop_button = widgets.Button(description='stop', button_style='danger', layout=button_layout)\n",
    "forward_button = widgets.Button(description='forward', layout=button_layout)\n",
    "backward_button = widgets.Button(description='backward', layout=button_layout)\n",
    "left_button = widgets.Button(description='left', layout=button_layout)\n",
    "right_button = widgets.Button(description='right', layout=button_layout)\n",
    "\n",
    "# display buttons\n",
    "middle_box = widgets.HBox([left_button, stop_button, right_button], layout=widgets.Layout(align_self='center'))\n",
    "controls_box = widgets.VBox([forward_button, middle_box, backward_button])\n",
    "display(controls_box)"
   ]
  },
  {
   "cell_type": "markdown",
   "metadata": {},
   "source": [
    "You should see a set of robot controls displayed above!  But right now they wont do anything.  To do that\n",
    "we'll need to create some functions that we'll attach to the button's ``on_click`` event.  "
   ]
  },
  {
   "cell_type": "code",
   "execution_count": null,
   "metadata": {},
   "outputs": [],
   "source": [
    "def stop(change):\n",
    "    robot.stop()\n",
    "    \n",
    "def step_forward(change):\n",
    "    robot.forward(0.4)\n",
    "    time.sleep(0.5)\n",
    "    robot.stop()\n",
    "\n",
    "def step_backward(change):\n",
    "    robot.backward(0.4)\n",
    "    time.sleep(0.5)\n",
    "    robot.stop()\n",
    "\n",
    "def step_left(change):\n",
    "    robot.left(0.3)\n",
    "    time.sleep(0.5)\n",
    "    robot.stop()\n",
    "\n",
    "def step_right(change):\n",
    "    robot.right(0.3)\n",
    "    time.sleep(0.5)\n",
    "    robot.stop()"
   ]
  },
  {
   "cell_type": "markdown",
   "metadata": {},
   "source": [
    "Now that we've defined the functions, let's attach them to the on-click events of each button"
   ]
  },
  {
   "cell_type": "code",
   "execution_count": null,
   "metadata": {},
   "outputs": [],
   "source": [
    "# link buttons to actions\n",
    "stop_button.on_click(stop)\n",
    "forward_button.on_click(step_forward)\n",
    "backward_button.on_click(step_backward)\n",
    "left_button.on_click(step_left)\n",
    "right_button.on_click(step_right)"
   ]
  },
  {
   "cell_type": "markdown",
   "metadata": {},
   "source": [
    "Now when you click each button, you should see the robot move!"
   ]
  },
  {
   "cell_type": "markdown",
   "metadata": {},
   "source": [
    "### Heartbeat Killswitch\n",
    "\n",
    "Here we show how to connect a 'heartbeat' to stop the robot from moving.  This is a simple way to detect if the robot connection is alive.  You can lower the slider below to reduce the period (in seconds) of the heartbeat.  If a round-trip communication between broswer cannot be made within two heartbeats, the '`status`' attribute of the heartbeat will be set ``dead``.  As soon as the connection is restored, the ``status`` attribute will return to ``alive``."
   ]
  },
  {
   "cell_type": "code",
   "execution_count": null,
   "metadata": {},
   "outputs": [],
   "source": [
    "from jetbot import Heartbeat\n",
    "\n",
    "heartbeat = Heartbeat()\n",
    "\n",
    "# this function will be called when heartbeat 'alive' status changes\n",
    "def handle_heartbeat_status(change):\n",
    "    if change['new'] == Heartbeat.Status.dead:\n",
    "        robot.stop()\n",
    "        \n",
    "heartbeat.observe(handle_heartbeat_status, names='status')\n",
    "\n",
    "period_slider = widgets.FloatSlider(description='period', min=0.001, max=0.5, step=0.01, value=0.5)\n",
    "traitlets.dlink((period_slider, 'value'), (heartbeat, 'period'))\n",
    "\n",
    "display(period_slider, heartbeat.pulseout)"
   ]
  },
  {
   "cell_type": "markdown",
   "metadata": {},
   "source": [
    "Try executing the code below to start the motors, and then lower the slider to see what happens.  You can also try disconnecting your robot or PC."
   ]
  },
  {
   "cell_type": "code",
   "execution_count": null,
   "metadata": {},
   "outputs": [],
   "source": [
    "robot.left(0.2) \n",
    "\n",
    "# now lower the `period` slider above until the network heartbeat can't be satisfied"
   ]
  },
  {
   "cell_type": "markdown",
   "metadata": {},
   "source": [
    "### Conclusion\n",
    "\n",
    "That's it for this example notebook!  Hopefully you feel confident that you can program your robot to move around now :)"
   ]
  }
 ],
 "metadata": {
  "kernelspec": {
   "display_name": "Python 3",
   "language": "python",
   "name": "python3"
  },
  "language_info": {
   "codemirror_mode": {
    "name": "ipython",
    "version": 3
   },
   "file_extension": ".py",
   "mimetype": "text/x-python",
   "name": "python",
   "nbconvert_exporter": "python",
   "pygments_lexer": "ipython3",
   "version": "3.6.9"
  }
 },
 "nbformat": 4,
 "nbformat_minor": 4
}
